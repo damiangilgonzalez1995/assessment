{
 "cells": [
  {
   "cell_type": "code",
   "execution_count": 7,
   "metadata": {},
   "outputs": [],
   "source": [
    "import requests\n",
    "\n",
    "# Paso 1: Obtener el token usando el correo electrónico\n",
    "def get_token(email):\n",
    "    url = \"http://127.0.0.1:8000/token\"\n",
    "    data = {\"email\": email}\n",
    "    response = requests.post(url, json=data)\n",
    "\n",
    "    if response.status_code == 200:\n",
    "        return response.json()[\"access_token\"]\n",
    "    else:\n",
    "        print(f\"Error: {response.status_code}\")\n",
    "        print(response)\n",
    "        return None\n"
   ]
  },
  {
   "cell_type": "markdown",
   "metadata": {},
   "source": [
    "### Unauthorized"
   ]
  },
  {
   "cell_type": "code",
   "execution_count": 13,
   "metadata": {},
   "outputs": [
    {
     "name": "stdout",
     "output_type": "stream",
     "text": [
      "Error: 500\n",
      "<Response [500]>\n",
      "{'detail': 'Invalid authentication credentials'}\n"
     ]
    }
   ],
   "source": [
    "email = \"evangelinebl\"\n",
    "user_id = \"7c669276-b8a1-44ff-88d9-7a88a2bbfe94\"\n",
    "\n",
    "\n",
    "# get token\n",
    "token = get_token(email)\n",
    "\n",
    "url = f\"http://127.0.0.1:8000/user/by_id/{user_id}\"\n",
    "headers = {\"Authorization\": f\"Bearer {token}\"}\n",
    "response = requests.get(url, headers=headers)\n",
    "\n",
    "print(response.json())"
   ]
  },
  {
   "cell_type": "markdown",
   "metadata": {},
   "source": [
    "## Get user data filtered by user ID -> Can be accessed by users with \"user\" and \"admin\" role."
   ]
  },
  {
   "cell_type": "markdown",
   "metadata": {},
   "source": [
    "### USER"
   ]
  },
  {
   "cell_type": "code",
   "execution_count": 12,
   "metadata": {},
   "outputs": [
    {
     "name": "stdout",
     "output_type": "stream",
     "text": [
      "{'id': '7c669276-b8a1-44ff-88d9-7a88a2bbfe94', 'name': 'Claudette', 'email': 'claudetteblankenship@quotezart.com', 'role': 'admin'}\n"
     ]
    }
   ],
   "source": [
    "email = \"evangelineblankenship@quotezart.com\"\n",
    "user_id = \"7c669276-b8a1-44ff-88d9-7a88a2bbfe94\"\n",
    "\n",
    "\n",
    "# get token\n",
    "token = get_token(email)\n",
    "\n",
    "url = f\"http://127.0.0.1:8000/user/by_id/{user_id}\"\n",
    "headers = {\"Authorization\": f\"Bearer {token}\"}\n",
    "response = requests.get(url, headers=headers)\n",
    "\n",
    "print(response.json())"
   ]
  },
  {
   "cell_type": "markdown",
   "metadata": {},
   "source": [
    "### ADMIN"
   ]
  },
  {
   "cell_type": "code",
   "execution_count": 12,
   "metadata": {},
   "outputs": [
    {
     "name": "stdout",
     "output_type": "stream",
     "text": [
      "{'id': '7c669276-b8a1-44ff-88d9-7a88a2bbfe94', 'name': 'Claudette', 'email': 'claudetteblankenship@quotezart.com', 'role': 'admin'}\n"
     ]
    }
   ],
   "source": [
    "email = \"elisablankenship@quotezart.com\"\n",
    "user_id = \"7c669276-b8a1-44ff-88d9-7a88a2bbfe94\"\n",
    "\n",
    "\n",
    "# get token\n",
    "token = get_token(email)\n",
    "\n",
    "url = f\"http://127.0.0.1:8000/user/by_id/{user_id}\"\n",
    "headers = {\"Authorization\": f\"Bearer {token}\"}\n",
    "response = requests.get(url, headers=headers)\n",
    "\n",
    "print(response.json())"
   ]
  },
  {
   "cell_type": "markdown",
   "metadata": {},
   "source": [
    "# Get user data filtered by username -> Can be accessed by users with role \"users\" and \"admin\"."
   ]
  },
  {
   "cell_type": "markdown",
   "metadata": {},
   "source": [
    "### USER"
   ]
  },
  {
   "cell_type": "code",
   "execution_count": 13,
   "metadata": {},
   "outputs": [
    {
     "name": "stdout",
     "output_type": "stream",
     "text": [
      "{'id': 'ce40de49-241b-46e4-8077-1f455c8bdcdd', 'name': 'Mindy', 'email': 'mindyblankenship@quotezart.com', 'role': 'admin'}\n"
     ]
    }
   ],
   "source": [
    "email = \"evangelineblankenship@quotezart.com\"\n",
    "username = \"Mindy\"\n",
    "\n",
    "# get token\n",
    "token = get_token(email)\n",
    "\n",
    "url = f\"http://127.0.0.1:8000/user/by_username/{username}\"\n",
    "headers = {\"Authorization\": f\"Bearer {token}\"}\n",
    "response = requests.get(url, headers=headers)\n",
    "\n",
    "print(response.json())"
   ]
  },
  {
   "cell_type": "markdown",
   "metadata": {},
   "source": [
    "### ADMIN"
   ]
  },
  {
   "cell_type": "code",
   "execution_count": 14,
   "metadata": {},
   "outputs": [
    {
     "name": "stdout",
     "output_type": "stream",
     "text": [
      "{'id': 'ce40de49-241b-46e4-8077-1f455c8bdcdd', 'name': 'Mindy', 'email': 'mindyblankenship@quotezart.com', 'role': 'admin'}\n"
     ]
    }
   ],
   "source": [
    "email = \"hendricksblankenship@quotezart.com\"\n",
    "username = \"Mindy\"\n",
    "\n",
    "# get token\n",
    "token = get_token(email)\n",
    "\n",
    "url = f\"http://127.0.0.1:8000/user/by_username/{username}\"\n",
    "headers = {\"Authorization\": f\"Bearer {token}\"}\n",
    "response = requests.get(url, headers=headers)\n",
    "\n",
    "print(response.json())"
   ]
  },
  {
   "cell_type": "markdown",
   "metadata": {},
   "source": [
    "# Get the list of policies linked to a username -> Can be accessed by users with the \"admin\" role."
   ]
  },
  {
   "cell_type": "markdown",
   "metadata": {},
   "source": [
    "### USER"
   ]
  },
  {
   "cell_type": "code",
   "execution_count": 15,
   "metadata": {},
   "outputs": [
    {
     "name": "stdout",
     "output_type": "stream",
     "text": [
      "{'detail': 'Not enough permissions'}\n"
     ]
    }
   ],
   "source": [
    "email = \"evangelineblankenship@quotezart.com\"\n",
    "username = \"Mindy\"\n",
    "\n",
    "# get token\n",
    "token = get_token(email)\n",
    "\n",
    "url = f\"http://127.0.0.1:8000/policies/by_username/{username}\"\n",
    "headers = {\"Authorization\": f\"Bearer {token}\"}\n",
    "response = requests.get(url, headers=headers)\n",
    "\n",
    "print(response.json())"
   ]
  },
  {
   "cell_type": "markdown",
   "metadata": {},
   "source": [
    "### ADMIN"
   ]
  },
  {
   "cell_type": "code",
   "execution_count": 16,
   "metadata": {},
   "outputs": [
    {
     "name": "stdout",
     "output_type": "stream",
     "text": [
      "[{'id': '7b624ed3-00d5-4c1b-9ab8-c265067ef58b', 'amountInsured': 399.89, 'email': 'inesblankenship@quotezart.com', 'inceptionDate': '2015-07-06 06:55:49.000000', 'installmentPayment': '1', 'clientId': 'a0ece5db-cd14-4f21-812f-966633e7be86'}, {'id': '6f514ec4-1726-4628-974d-20afe4da130c', 'amountInsured': 697.04, 'email': 'inesblankenship@quotezart.com', 'inceptionDate': '2014-09-12 12:10:23.000000', 'installmentPayment': '0', 'clientId': 'a0ece5db-cd14-4f21-812f-966633e7be86'}, {'id': '25202f31-fff0-481c-acfd-1f3ff2a9bcbe', 'amountInsured': 2579.16, 'email': 'inesblankenship@quotezart.com', 'inceptionDate': '2016-05-03 04:58:48.000000', 'installmentPayment': '0', 'clientId': 'a0ece5db-cd14-4f21-812f-966633e7be86'}, {'id': '15b4430d-96f8-468e-98c0-3caaf8b0b3b6', 'amountInsured': 645.65, 'email': 'inesblankenship@quotezart.com', 'inceptionDate': '2016-01-15 02:56:48.000000', 'installmentPayment': '1', 'clientId': 'a0ece5db-cd14-4f21-812f-966633e7be86'}, {'id': '4a582500-fab6-4efe-ae89-0c9ed750d0c7', 'amountInsured': 3074.24, 'email': 'inesblankenship@quotezart.com', 'inceptionDate': '2014-06-24 09:21:06.000000', 'installmentPayment': '0', 'clientId': 'a0ece5db-cd14-4f21-812f-966633e7be86'}, {'id': 'd973993a-d35e-4d12-abb5-38083d556101', 'amountInsured': 1609.4, 'email': 'inesblankenship@quotezart.com', 'inceptionDate': '2016-01-31 03:52:33.000000', 'installmentPayment': '1', 'clientId': 'a0ece5db-cd14-4f21-812f-966633e7be86'}, {'id': 'cd63a392-0a8c-4c48-9cbe-e0a991d65c13', 'amountInsured': 804.87, 'email': 'inesblankenship@quotezart.com', 'inceptionDate': '2015-02-13 04:21:59.000000', 'installmentPayment': '0', 'clientId': 'a0ece5db-cd14-4f21-812f-966633e7be86'}, {'id': '5d6b141e-0d22-4a84-abdb-6200ddaad7d0', 'amountInsured': 1919.66, 'email': 'inesblankenship@quotezart.com', 'inceptionDate': '2014-11-02 09:16:22.000000', 'installmentPayment': '1', 'clientId': 'a0ece5db-cd14-4f21-812f-966633e7be86'}, {'id': '1c6180b9-78b4-464d-b488-1efe9cdf84b1', 'amountInsured': 712.58, 'email': 'inesblankenship@quotezart.com', 'inceptionDate': '2015-05-15 08:10:51.000000', 'installmentPayment': '0', 'clientId': 'a0ece5db-cd14-4f21-812f-966633e7be86'}, {'id': '3e00473f-3cbe-42ff-81a7-1d85c88e65ff', 'amountInsured': 3817.99, 'email': 'inesblankenship@quotezart.com', 'inceptionDate': '2015-11-02 10:10:01.000000', 'installmentPayment': '0', 'clientId': 'a0ece5db-cd14-4f21-812f-966633e7be86'}, {'id': '54d8fc4a-eefd-4d4f-bfeb-29381e289860', 'amountInsured': 3514.89, 'email': 'inesblankenship@quotezart.com', 'inceptionDate': '2014-12-30 08:55:23.000000', 'installmentPayment': '1', 'clientId': 'a0ece5db-cd14-4f21-812f-966633e7be86'}, {'id': '033ba8cd-e2e2-47c8-8963-dde166dec736', 'amountInsured': 1716.52, 'email': 'inesblankenship@quotezart.com', 'inceptionDate': '2014-03-04 12:42:55.000000', 'installmentPayment': '1', 'clientId': 'a0ece5db-cd14-4f21-812f-966633e7be86'}, {'id': '1547bd8a-0258-44ff-a6b7-88abcc3463e5', 'amountInsured': 454.11, 'email': 'inesblankenship@quotezart.com', 'inceptionDate': '2015-03-17 10:15:22.000000', 'installmentPayment': '1', 'clientId': 'a0ece5db-cd14-4f21-812f-966633e7be86'}, {'id': '24459576-7c2f-4ccd-bc27-19e1920bbd03', 'amountInsured': 3112.8, 'email': 'inesblankenship@quotezart.com', 'inceptionDate': '2015-02-17 08:21:06.000000', 'installmentPayment': '1', 'clientId': 'a0ece5db-cd14-4f21-812f-966633e7be86'}, {'id': '4a22fc14-22e4-4b78-b458-4b014f14c2e3', 'amountInsured': 3722.64, 'email': 'inesblankenship@quotezart.com', 'inceptionDate': '2014-05-15 10:19:58.000000', 'installmentPayment': '1', 'clientId': 'a0ece5db-cd14-4f21-812f-966633e7be86'}, {'id': '79c689f3-053a-459b-8c88-32a699817097', 'amountInsured': 437.43, 'email': 'inesblankenship@quotezart.com', 'inceptionDate': '2016-05-17 09:29:00.000000', 'installmentPayment': '0', 'clientId': 'a0ece5db-cd14-4f21-812f-966633e7be86'}, {'id': '749d9631-cc1b-4da0-9280-c604b066ed47', 'amountInsured': 1692.41, 'email': 'inesblankenship@quotezart.com', 'inceptionDate': '2015-12-19 03:14:40.000000', 'installmentPayment': '0', 'clientId': 'a0ece5db-cd14-4f21-812f-966633e7be86'}, {'id': '378e9653-ed71-4961-b8ad-f62900a8650c', 'amountInsured': 3634.11, 'email': 'inesblankenship@quotezart.com', 'inceptionDate': '2014-01-01 07:24:54.000000', 'installmentPayment': '0', 'clientId': 'a0ece5db-cd14-4f21-812f-966633e7be86'}, {'id': '2f367b0e-2fc9-4aca-b4bc-ecdcd0000a0d', 'amountInsured': 2185.71, 'email': 'inesblankenship@quotezart.com', 'inceptionDate': '2016-09-05 03:26:53.000000', 'installmentPayment': '1', 'clientId': 'a0ece5db-cd14-4f21-812f-966633e7be86'}, {'id': '68edd99b-b99f-4270-a9df-c4e390c63357', 'amountInsured': 1606.17, 'email': 'inesblankenship@quotezart.com', 'inceptionDate': '2016-01-25 09:21:39.000000', 'installmentPayment': '0', 'clientId': 'a0ece5db-cd14-4f21-812f-966633e7be86'}, {'id': 'c0b7918c-5077-4c1b-adf5-b8e8bec4aa5d', 'amountInsured': 645.65, 'email': 'inesblankenship@quotezart.com', 'inceptionDate': '2016-01-26 10:25:57.000000', 'installmentPayment': '1', 'clientId': 'a0ece5db-cd14-4f21-812f-966633e7be86'}, {'id': 'aefe877f-161b-4a9a-9688-8a4e1d559939', 'amountInsured': 836.95, 'email': 'inesblankenship@quotezart.com', 'inceptionDate': '2016-03-17 05:19:36.000000', 'installmentPayment': '0', 'clientId': 'a0ece5db-cd14-4f21-812f-966633e7be86'}, {'id': '275b3663-70f0-43e7-9c1b-b8d849ee2bc5', 'amountInsured': 2673.5, 'email': 'inesblankenship@quotezart.com', 'inceptionDate': '2016-07-02 06:05:45.000000', 'installmentPayment': '1', 'clientId': 'a0ece5db-cd14-4f21-812f-966633e7be86'}, {'id': '150c29d4-bc9b-4e4f-87f2-1644aa2c2c2c', 'amountInsured': 3972.51, 'email': 'inesblankenship@quotezart.com', 'inceptionDate': '2016-04-07 11:13:41.000000', 'installmentPayment': '0', 'clientId': 'a0ece5db-cd14-4f21-812f-966633e7be86'}, {'id': '3e7b8b10-c3ee-4002-9b02-a91355c41d37', 'amountInsured': 2828.83, 'email': 'inesblankenship@quotezart.com', 'inceptionDate': '2016-08-28 04:59:32.000000', 'installmentPayment': '1', 'clientId': 'a0ece5db-cd14-4f21-812f-966633e7be86'}, {'id': '92d15c67-e71b-44ed-9531-eb1afe19dfce', 'amountInsured': 1787.7, 'email': 'inesblankenship@quotezart.com', 'inceptionDate': '2015-08-29 10:38:42.000000', 'installmentPayment': '0', 'clientId': 'a0ece5db-cd14-4f21-812f-966633e7be86'}, {'id': 'baa66e18-5308-4064-a4ff-51572f220b2e', 'amountInsured': 2684.33, 'email': 'inesblankenship@quotezart.com', 'inceptionDate': '2014-08-23 03:12:51.000000', 'installmentPayment': '1', 'clientId': 'a0ece5db-cd14-4f21-812f-966633e7be86'}, {'id': '1a6a9771-bfe8-4ad0-b672-2b1873b15331', 'amountInsured': 3110.29, 'email': 'inesblankenship@quotezart.com', 'inceptionDate': '2014-03-03 07:58:26.000000', 'installmentPayment': '0', 'clientId': 'a0ece5db-cd14-4f21-812f-966633e7be86'}, {'id': 'f7058bad-4787-426f-9ef3-f4652ea9d582', 'amountInsured': 311.47, 'email': 'inesblankenship@quotezart.com', 'inceptionDate': '2015-03-24 04:18:30.000000', 'installmentPayment': '0', 'clientId': 'a0ece5db-cd14-4f21-812f-966633e7be86'}, {'id': '6bda2f7a-a5ce-4079-8a38-5a2f199f63e9', 'amountInsured': 2599.26, 'email': 'inesblankenship@quotezart.com', 'inceptionDate': '2014-06-25 10:00:11.000000', 'installmentPayment': '0', 'clientId': 'a0ece5db-cd14-4f21-812f-966633e7be86'}, {'id': '79b3661d-ce1c-4b03-8f26-3dd6d70f6464', 'amountInsured': 1347.02, 'email': 'inesblankenship@quotezart.com', 'inceptionDate': '2014-02-26 11:10:28.000000', 'installmentPayment': '0', 'clientId': 'a0ece5db-cd14-4f21-812f-966633e7be86'}, {'id': '036218ed-eb8f-4838-8e73-0392c4f15802', 'amountInsured': 1307.13, 'email': 'inesblankenship@quotezart.com', 'inceptionDate': '2014-01-04 12:53:56.000000', 'installmentPayment': '0', 'clientId': 'a0ece5db-cd14-4f21-812f-966633e7be86'}, {'id': '74114190-6ad5-4a5d-a699-c488c1675376', 'amountInsured': 1777.33, 'email': 'inesblankenship@quotezart.com', 'inceptionDate': '2015-09-09 09:50:06.000000', 'installmentPayment': '0', 'clientId': 'a0ece5db-cd14-4f21-812f-966633e7be86'}, {'id': '487d63c0-e3bd-4507-b5f6-b52d397c7661', 'amountInsured': 239.68, 'email': 'inesblankenship@quotezart.com', 'inceptionDate': '2014-12-16 07:21:05.000000', 'installmentPayment': '0', 'clientId': 'a0ece5db-cd14-4f21-812f-966633e7be86'}, {'id': 'c73ab90b-7db2-4a17-a291-32eb6f762204', 'amountInsured': 324.3, 'email': 'inesblankenship@quotezart.com', 'inceptionDate': '2016-09-08 07:10:31.000000', 'installmentPayment': '1', 'clientId': 'a0ece5db-cd14-4f21-812f-966633e7be86'}, {'id': '53380f30-2bc1-432d-b350-4c889582ff44', 'amountInsured': 1443.94, 'email': 'inesblankenship@quotezart.com', 'inceptionDate': '2014-01-21 04:19:07.000000', 'installmentPayment': '1', 'clientId': 'a0ece5db-cd14-4f21-812f-966633e7be86'}, {'id': '450ae194-8770-473a-be79-d4a02aa4905c', 'amountInsured': 3612.57, 'email': 'inesblankenship@quotezart.com', 'inceptionDate': '2014-08-23 03:31:21.000000', 'installmentPayment': '1', 'clientId': 'a0ece5db-cd14-4f21-812f-966633e7be86'}, {'id': 'f5d0a83d-1d5d-445b-bbfa-a027319959fc', 'amountInsured': 314.77, 'email': 'inesblankenship@quotezart.com', 'inceptionDate': '2014-01-24 04:48:51.000000', 'installmentPayment': '0', 'clientId': 'a0ece5db-cd14-4f21-812f-966633e7be86'}, {'id': 'ad0c934b-2e21-4eee-945e-f6ca0f93d84c', 'amountInsured': 1680.79, 'email': 'inesblankenship@quotezart.com', 'inceptionDate': '2015-08-02 10:09:21.000000', 'installmentPayment': '0', 'clientId': 'a0ece5db-cd14-4f21-812f-966633e7be86'}, {'id': 'c27cb289-0f0e-4e82-a729-13fb84d6b46b', 'amountInsured': 1787.58, 'email': 'inesblankenship@quotezart.com', 'inceptionDate': '2016-03-18 06:34:29.000000', 'installmentPayment': '0', 'clientId': 'a0ece5db-cd14-4f21-812f-966633e7be86'}, {'id': '62a8a8bd-7d54-4f53-bda1-5004d95c6316', 'amountInsured': 3547.4, 'email': 'inesblankenship@quotezart.com', 'inceptionDate': '2016-01-08 03:13:02.000000', 'installmentPayment': '0', 'clientId': 'a0ece5db-cd14-4f21-812f-966633e7be86'}, {'id': '8a5ce0e5-8532-409a-a020-b17acbe849d4', 'amountInsured': 654.99, 'email': 'inesblankenship@quotezart.com', 'inceptionDate': '2014-09-25 08:31:47.000000', 'installmentPayment': '1', 'clientId': 'a0ece5db-cd14-4f21-812f-966633e7be86'}, {'id': 'd476d9ff-fbb7-4455-85d6-2307ae8988a0', 'amountInsured': 3315.4, 'email': 'inesblankenship@quotezart.com', 'inceptionDate': '2014-07-02 09:22:19.000000', 'installmentPayment': '0', 'clientId': 'a0ece5db-cd14-4f21-812f-966633e7be86'}, {'id': '516799d2-6398-4854-b853-38ad49869985', 'amountInsured': 1305.27, 'email': 'inesblankenship@quotezart.com', 'inceptionDate': '2014-03-11 04:00:04.000000', 'installmentPayment': '0', 'clientId': 'a0ece5db-cd14-4f21-812f-966633e7be86'}, {'id': 'd099fba2-3d40-41ca-96e6-a9aece1045c0', 'amountInsured': 3829.23, 'email': 'inesblankenship@quotezart.com', 'inceptionDate': '2015-12-02 07:30:33.000000', 'installmentPayment': '0', 'clientId': 'a0ece5db-cd14-4f21-812f-966633e7be86'}, {'id': '577223e8-9be4-486e-99cc-03ebe36f207a', 'amountInsured': 3551.04, 'email': 'inesblankenship@quotezart.com', 'inceptionDate': '2015-06-04 05:14:51.000000', 'installmentPayment': '0', 'clientId': 'a0ece5db-cd14-4f21-812f-966633e7be86'}, {'id': 'aad8e03a-4f1c-4c79-9a2b-f9a95b803e6a', 'amountInsured': 1661.26, 'email': 'inesblankenship@quotezart.com', 'inceptionDate': '2016-01-26 07:00:09.000000', 'installmentPayment': '1', 'clientId': 'a0ece5db-cd14-4f21-812f-966633e7be86'}, {'id': 'b93af73a-fdcc-4501-9779-d782f3a1ad98', 'amountInsured': 2735.84, 'email': 'inesblankenship@quotezart.com', 'inceptionDate': '2014-05-18 04:40:02.000000', 'installmentPayment': '0', 'clientId': 'a0ece5db-cd14-4f21-812f-966633e7be86'}, {'id': '2f8233d0-1792-4ecf-9017-306b8ae4eb42', 'amountInsured': 1193.19, 'email': 'inesblankenship@quotezart.com', 'inceptionDate': '2014-05-18 04:27:54.000000', 'installmentPayment': '1', 'clientId': 'a0ece5db-cd14-4f21-812f-966633e7be86'}, {'id': '3c42ae29-2854-4074-9e22-360789d552fc', 'amountInsured': 1171.14, 'email': 'inesblankenship@quotezart.com', 'inceptionDate': '2015-12-16 06:28:54.000000', 'installmentPayment': '1', 'clientId': 'a0ece5db-cd14-4f21-812f-966633e7be86'}, {'id': '4f744ead-f4ff-498e-9d5f-fd6819cd4c77', 'amountInsured': 3860.22, 'email': 'inesblankenship@quotezart.com', 'inceptionDate': '2014-04-29 11:41:20.000000', 'installmentPayment': '1', 'clientId': 'a0ece5db-cd14-4f21-812f-966633e7be86'}, {'id': '5a0618f0-d4ef-45ca-ae99-23efc7d92a1a', 'amountInsured': 3714.13, 'email': 'inesblankenship@quotezart.com', 'inceptionDate': '2015-03-29 09:10:35.000000', 'installmentPayment': '0', 'clientId': 'a0ece5db-cd14-4f21-812f-966633e7be86'}, {'id': 'b8d6ecde-aa4c-40ae-987a-a887543cbb8a', 'amountInsured': 1575.73, 'email': 'inesblankenship@quotezart.com', 'inceptionDate': '2015-04-12 12:02:20.000000', 'installmentPayment': '1', 'clientId': 'a0ece5db-cd14-4f21-812f-966633e7be86'}, {'id': 'e7eb8fd6-7b09-4802-99ee-df66e6e4c268', 'amountInsured': 1040.55, 'email': 'inesblankenship@quotezart.com', 'inceptionDate': '2015-01-25 10:49:26.000000', 'installmentPayment': '0', 'clientId': 'a0ece5db-cd14-4f21-812f-966633e7be86'}, {'id': '57492c2b-c29c-4644-b557-feeeaa2bcafc', 'amountInsured': 1153.25, 'email': 'inesblankenship@quotezart.com', 'inceptionDate': '2014-07-11 08:09:32.000000', 'installmentPayment': '1', 'clientId': 'a0ece5db-cd14-4f21-812f-966633e7be86'}, {'id': '110c70d7-6820-41ab-b5ad-cb87360fe70a', 'amountInsured': 1820.71, 'email': 'inesblankenship@quotezart.com', 'inceptionDate': '2016-09-22 08:19:38.000000', 'installmentPayment': '1', 'clientId': 'a0ece5db-cd14-4f21-812f-966633e7be86'}, {'id': '183f3153-4be4-4441-9cb3-abb55c042d23', 'amountInsured': 3896.56, 'email': 'inesblankenship@quotezart.com', 'inceptionDate': '2015-11-11 08:34:34.000000', 'installmentPayment': '0', 'clientId': 'a0ece5db-cd14-4f21-812f-966633e7be86'}, {'id': '2b810027-a999-437e-ad79-e09ac5f0968b', 'amountInsured': 1620.8, 'email': 'inesblankenship@quotezart.com', 'inceptionDate': '2014-03-24 10:39:32.000000', 'installmentPayment': '0', 'clientId': 'a0ece5db-cd14-4f21-812f-966633e7be86'}, {'id': '87e85136-16a2-4800-a3ff-d3c93a397a1c', 'amountInsured': 3853.65, 'email': 'inesblankenship@quotezart.com', 'inceptionDate': '2016-03-27 01:51:02.000000', 'installmentPayment': '1', 'clientId': 'a0ece5db-cd14-4f21-812f-966633e7be86'}, {'id': '0039b246-5ffa-4b90-b16f-fc9f2d4033d6', 'amountInsured': 879.83, 'email': 'inesblankenship@quotezart.com', 'inceptionDate': '2014-06-29 03:41:22.000000', 'installmentPayment': '0', 'clientId': 'a0ece5db-cd14-4f21-812f-966633e7be86'}, {'id': 'd72141bb-44b1-429b-a774-928179f97807', 'amountInsured': 445.5, 'email': 'inesblankenship@quotezart.com', 'inceptionDate': '2016-10-09 04:14:27.000000', 'installmentPayment': '0', 'clientId': 'a0ece5db-cd14-4f21-812f-966633e7be86'}, {'id': '7e969f05-d914-41cb-963f-8826cbaa938b', 'amountInsured': 3747.23, 'email': 'inesblankenship@quotezart.com', 'inceptionDate': '2016-08-16 11:21:31.000000', 'installmentPayment': '1', 'clientId': 'a0ece5db-cd14-4f21-812f-966633e7be86'}, {'id': '0bf7fc01-6ffb-44aa-8d68-324f0c3cbcee', 'amountInsured': 2463.0, 'email': 'inesblankenship@quotezart.com', 'inceptionDate': '2015-12-06 05:59:27.000000', 'installmentPayment': '1', 'clientId': 'a0ece5db-cd14-4f21-812f-966633e7be86'}, {'id': '9378b669-cd82-4fc4-8751-e2f38e5f94d1', 'amountInsured': 237.31, 'email': 'inesblankenship@quotezart.com', 'inceptionDate': '2015-04-27 01:14:20.000000', 'installmentPayment': '1', 'clientId': 'a0ece5db-cd14-4f21-812f-966633e7be86'}, {'id': '272d1367-dfc6-44ec-a7aa-5ef0bbc213d9', 'amountInsured': 2724.41, 'email': 'inesblankenship@quotezart.com', 'inceptionDate': '2014-12-18 02:21:10.000000', 'installmentPayment': '0', 'clientId': 'a0ece5db-cd14-4f21-812f-966633e7be86'}, {'id': 'eb7b45e5-7ed1-4f35-a420-245b16fa0960', 'amountInsured': 1936.66, 'email': 'inesblankenship@quotezart.com', 'inceptionDate': '2014-10-25 12:14:54.000000', 'installmentPayment': '1', 'clientId': 'a0ece5db-cd14-4f21-812f-966633e7be86'}, {'id': '0844ac5b-e57b-49ad-9a93-78c432659c8a', 'amountInsured': 1322.21, 'email': 'inesblankenship@quotezart.com', 'inceptionDate': '2014-03-11 05:07:20.000000', 'installmentPayment': '1', 'clientId': 'a0ece5db-cd14-4f21-812f-966633e7be86'}, {'id': '20d3b34e-7249-4d12-aeef-f159634abddd', 'amountInsured': 3389.98, 'email': 'inesblankenship@quotezart.com', 'inceptionDate': '2015-12-19 02:13:10.000000', 'installmentPayment': '0', 'clientId': 'a0ece5db-cd14-4f21-812f-966633e7be86'}, {'id': '6b1edbab-e03e-4ced-8e0f-b0b1395dbbb3', 'amountInsured': 1833.64, 'email': 'inesblankenship@quotezart.com', 'inceptionDate': '2014-12-09 03:34:40.000000', 'installmentPayment': '0', 'clientId': 'a0ece5db-cd14-4f21-812f-966633e7be86'}, {'id': '167b0dfb-e682-4f7b-873b-b4be255a7dbd', 'amountInsured': 1266.39, 'email': 'inesblankenship@quotezart.com', 'inceptionDate': '2014-08-04 08:54:11.000000', 'installmentPayment': '0', 'clientId': 'a0ece5db-cd14-4f21-812f-966633e7be86'}, {'id': 'e696c847-a8cf-41c9-88aa-d1dbe9fd3116', 'amountInsured': 1253.88, 'email': 'inesblankenship@quotezart.com', 'inceptionDate': '2016-01-10 02:52:36.000000', 'installmentPayment': '1', 'clientId': 'a0ece5db-cd14-4f21-812f-966633e7be86'}, {'id': 'b72f67b0-7f9a-4ee9-8b58-05552e277fa1', 'amountInsured': 3153.69, 'email': 'inesblankenship@quotezart.com', 'inceptionDate': '2014-10-31 03:53:58.000000', 'installmentPayment': '1', 'clientId': 'a0ece5db-cd14-4f21-812f-966633e7be86'}, {'id': 'f9806d5f-fed2-45d2-afca-b28d36a7e5b4', 'amountInsured': 2731.38, 'email': 'inesblankenship@quotezart.com', 'inceptionDate': '2016-05-05 07:54:44.000000', 'installmentPayment': '1', 'clientId': 'a0ece5db-cd14-4f21-812f-966633e7be86'}, {'id': '3ba861ab-8480-447c-beff-2b4fcafc65b9', 'amountInsured': 1357.51, 'email': 'inesblankenship@quotezart.com', 'inceptionDate': '2015-10-17 05:20:00.000000', 'installmentPayment': '0', 'clientId': 'a0ece5db-cd14-4f21-812f-966633e7be86'}, {'id': 'e51c508b-7cfd-4134-a15d-4edb5c45e1c1', 'amountInsured': 2854.68, 'email': 'inesblankenship@quotezart.com', 'inceptionDate': '2015-02-24 06:27:56.000000', 'installmentPayment': '1', 'clientId': 'a0ece5db-cd14-4f21-812f-966633e7be86'}, {'id': '3b94a493-3af7-4d4f-83b1-f2faa1adb809', 'amountInsured': 840.85, 'email': 'inesblankenship@quotezart.com', 'inceptionDate': '2014-12-19 12:10:09.000000', 'installmentPayment': '1', 'clientId': 'a0ece5db-cd14-4f21-812f-966633e7be86'}, {'id': '364e0536-9e35-4bc2-8588-0a0d4d16d94f', 'amountInsured': 960.42, 'email': 'inesblankenship@quotezart.com', 'inceptionDate': '2015-05-19 10:12:30.000000', 'installmentPayment': '1', 'clientId': 'a0ece5db-cd14-4f21-812f-966633e7be86'}, {'id': 'e194f5d3-a428-4998-9c68-59a255ff8f85', 'amountInsured': 866.34, 'email': 'inesblankenship@quotezart.com', 'inceptionDate': '2014-08-13 03:22:52.000000', 'installmentPayment': '0', 'clientId': 'a0ece5db-cd14-4f21-812f-966633e7be86'}, {'id': '167301ad-e2d6-42db-b080-790a2558117b', 'amountInsured': 3237.49, 'email': 'inesblankenship@quotezart.com', 'inceptionDate': '2014-06-10 03:18:51.000000', 'installmentPayment': '0', 'clientId': 'a0ece5db-cd14-4f21-812f-966633e7be86'}, {'id': '01adaadb-ac33-4fe3-8e66-bb162ae71083', 'amountInsured': 3515.41, 'email': 'inesblankenship@quotezart.com', 'inceptionDate': '2016-05-29 11:44:30.000000', 'installmentPayment': '1', 'clientId': 'a0ece5db-cd14-4f21-812f-966633e7be86'}, {'id': '2df83693-8d76-4c83-890e-37bcd03a5d2a', 'amountInsured': 483.77, 'email': 'inesblankenship@quotezart.com', 'inceptionDate': '2014-06-19 06:20:25.000000', 'installmentPayment': '0', 'clientId': 'a0ece5db-cd14-4f21-812f-966633e7be86'}, {'id': 'a9024b82-8cfd-484c-aa69-a4c55838ef48', 'amountInsured': 3513.66, 'email': 'inesblankenship@quotezart.com', 'inceptionDate': '2016-08-07 06:41:59.000000', 'installmentPayment': '1', 'clientId': 'a0ece5db-cd14-4f21-812f-966633e7be86'}, {'id': 'a3e3c971-b16c-40b4-9e13-698e27d3ac40', 'amountInsured': 1688.84, 'email': 'inesblankenship@quotezart.com', 'inceptionDate': '2015-01-15 03:37:31.000000', 'installmentPayment': '1', 'clientId': 'a0ece5db-cd14-4f21-812f-966633e7be86'}, {'id': 'c3b0cca5-f5be-4094-9629-73ce3727bb35', 'amountInsured': 3062.26, 'email': 'inesblankenship@quotezart.com', 'inceptionDate': '2015-03-18 01:43:48.000000', 'installmentPayment': '1', 'clientId': 'a0ece5db-cd14-4f21-812f-966633e7be86'}, {'id': '8fb56435-156f-43ee-aa37-5fe17cd94fce', 'amountInsured': 3930.68, 'email': 'inesblankenship@quotezart.com', 'inceptionDate': '2014-08-26 05:53:07.000000', 'installmentPayment': '1', 'clientId': 'a0ece5db-cd14-4f21-812f-966633e7be86'}, {'id': '537e969c-9355-416d-9fbf-68d2c1c21b17', 'amountInsured': 3986.94, 'email': 'inesblankenship@quotezart.com', 'inceptionDate': '2016-03-24 05:52:20.000000', 'installmentPayment': '1', 'clientId': 'a0ece5db-cd14-4f21-812f-966633e7be86'}, {'id': '89c3daf9-7caf-46be-b2cb-2945e0f76e1e', 'amountInsured': 1192.25, 'email': 'inesblankenship@quotezart.com', 'inceptionDate': '2014-09-24 02:37:19.000000', 'installmentPayment': '0', 'clientId': 'a0ece5db-cd14-4f21-812f-966633e7be86'}, {'id': '4a1b6120-2d36-4e04-a6c8-09f69a1fab5a', 'amountInsured': 2097.72, 'email': 'inesblankenship@quotezart.com', 'inceptionDate': '2015-08-17 02:34:43.000000', 'installmentPayment': '1', 'clientId': 'a0ece5db-cd14-4f21-812f-966633e7be86'}, {'id': '619b6cfc-fab9-4fc7-9311-7883cf203796', 'amountInsured': 2855.85, 'email': 'inesblankenship@quotezart.com', 'inceptionDate': '2015-08-29 10:23:01.000000', 'installmentPayment': '1', 'clientId': 'a0ece5db-cd14-4f21-812f-966633e7be86'}, {'id': '5eb57440-d277-4df4-83b2-eb9f0ef728de', 'amountInsured': 827.32, 'email': 'inesblankenship@quotezart.com', 'inceptionDate': '2014-12-18 11:21:01.000000', 'installmentPayment': '1', 'clientId': 'a0ece5db-cd14-4f21-812f-966633e7be86'}, {'id': '8dc0fb30-74d6-4dfa-95ae-5aee9a88ce4b', 'amountInsured': 2696.66, 'email': 'inesblankenship@quotezart.com', 'inceptionDate': '2014-11-15 03:04:18.000000', 'installmentPayment': '1', 'clientId': 'a0ece5db-cd14-4f21-812f-966633e7be86'}, {'id': 'dedd25be-b349-4bb8-b15d-6fb835c599ea', 'amountInsured': 2551.83, 'email': 'inesblankenship@quotezart.com', 'inceptionDate': '2014-02-18 04:09:38.000000', 'installmentPayment': '0', 'clientId': 'a0ece5db-cd14-4f21-812f-966633e7be86'}, {'id': '02b219dd-6c4a-4b1b-8f02-f7c973f0f588', 'amountInsured': 3459.11, 'email': 'inesblankenship@quotezart.com', 'inceptionDate': '2014-08-10 05:48:45.000000', 'installmentPayment': '0', 'clientId': 'a0ece5db-cd14-4f21-812f-966633e7be86'}, {'id': '69ccdfe3-e250-423b-a0ba-657e483325d9', 'amountInsured': 1722.41, 'email': 'inesblankenship@quotezart.com', 'inceptionDate': '2015-09-30 03:18:16.000000', 'installmentPayment': '1', 'clientId': 'a0ece5db-cd14-4f21-812f-966633e7be86'}, {'id': '4bbc5ed3-9dfc-45c7-a4ed-0a404021b91c', 'amountInsured': 3474.91, 'email': 'inesblankenship@quotezart.com', 'inceptionDate': '2015-09-11 05:02:19.000000', 'installmentPayment': '1', 'clientId': 'a0ece5db-cd14-4f21-812f-966633e7be86'}, {'id': 'a6834b18-2b2c-4d45-be9d-02c80a76fd37', 'amountInsured': 2465.2, 'email': 'inesblankenship@quotezart.com', 'inceptionDate': '2015-08-14 09:20:27.000000', 'installmentPayment': '0', 'clientId': 'a0ece5db-cd14-4f21-812f-966633e7be86'}, {'id': 'd426521a-3e15-4d22-96e9-d151768adb99', 'amountInsured': 2113.33, 'email': 'inesblankenship@quotezart.com', 'inceptionDate': '2015-05-15 08:08:37.000000', 'installmentPayment': '0', 'clientId': 'a0ece5db-cd14-4f21-812f-966633e7be86'}, {'id': 'a751f39e-4668-4809-94ff-5f86e4b67b30', 'amountInsured': 2859.85, 'email': 'inesblankenship@quotezart.com', 'inceptionDate': '2016-01-27 01:01:52.000000', 'installmentPayment': '0', 'clientId': 'a0ece5db-cd14-4f21-812f-966633e7be86'}, {'id': '29a92e14-e935-44db-8c42-1d31c76c01c8', 'amountInsured': 3192.66, 'email': 'inesblankenship@quotezart.com', 'inceptionDate': '2014-01-02 11:40:20.000000', 'installmentPayment': '1', 'clientId': 'a0ece5db-cd14-4f21-812f-966633e7be86'}, {'id': '98e9c6b2-6555-4777-953a-634f2c14749a', 'amountInsured': 902.18, 'email': 'inesblankenship@quotezart.com', 'inceptionDate': '2015-02-25 08:27:30.000000', 'installmentPayment': '0', 'clientId': 'a0ece5db-cd14-4f21-812f-966633e7be86'}, {'id': 'e626d069-fd2c-4211-99b6-67ed9e867387', 'amountInsured': 1695.35, 'email': 'inesblankenship@quotezart.com', 'inceptionDate': '2015-04-11 06:01:29.000000', 'installmentPayment': '1', 'clientId': 'a0ece5db-cd14-4f21-812f-966633e7be86'}, {'id': '0df3bcef-7a14-4dd7-a42d-fa209d0d5804', 'amountInsured': 705.14, 'email': 'inesblankenship@quotezart.com', 'inceptionDate': '2014-05-11 12:28:41.000000', 'installmentPayment': '0', 'clientId': 'a0ece5db-cd14-4f21-812f-966633e7be86'}]\n"
     ]
    }
   ],
   "source": [
    "email = \"hendricksblankenship@quotezart.com\"\n",
    "username = \"Britney\"\n",
    "\n",
    "# get token\n",
    "token = get_token(email)\n",
    "\n",
    "url = f\"http://127.0.0.1:8000/policies/by_username/{username}\"\n",
    "headers = {\"Authorization\": f\"Bearer {token}\"}\n",
    "response = requests.get(url, headers=headers)\n",
    "\n",
    "print(response.json())"
   ]
  },
  {
   "cell_type": "markdown",
   "metadata": {},
   "source": [
    "# Get the user linked to a policy number -> It can be accessed by users with the \"admin\" role."
   ]
  },
  {
   "cell_type": "markdown",
   "metadata": {},
   "source": [
    "### USER"
   ]
  },
  {
   "cell_type": "code",
   "execution_count": 17,
   "metadata": {},
   "outputs": [
    {
     "name": "stdout",
     "output_type": "stream",
     "text": [
      "{'detail': 'Not enough permissions'}\n"
     ]
    }
   ],
   "source": [
    "email = \"evangelineblankenship@quotezart.com\"\n",
    "policie_id = \"7b624ed3-00d5-4c1b-9ab8-c265067ef58b\"\n",
    "\n",
    "# get token\n",
    "token = get_token(email)\n",
    "\n",
    "url = f\"http://127.0.0.1:8000/user/by_policie/{policie_id}\"\n",
    "headers = {\"Authorization\": f\"Bearer {token}\"}\n",
    "response = requests.get(url, headers=headers)\n",
    "\n",
    "print(response.json())"
   ]
  },
  {
   "cell_type": "markdown",
   "metadata": {},
   "source": [
    "### ADMIN"
   ]
  },
  {
   "cell_type": "code",
   "execution_count": 18,
   "metadata": {},
   "outputs": [
    {
     "name": "stdout",
     "output_type": "stream",
     "text": [
      "{'id': 'a0ece5db-cd14-4f21-812f-966633e7be86', 'name': 'Britney', 'email': 'britneyblankenship@quotezart.com', 'role': 'admin'}\n"
     ]
    }
   ],
   "source": [
    "email = \"hendricksblankenship@quotezart.com\"\n",
    "policy_id = \"7b624ed3-00d5-4c1b-9ab8-c265067ef58b\"\n",
    "\n",
    "# get token\n",
    "token = get_token(email)\n",
    "\n",
    "url = f\"http://127.0.0.1:8000/user/by_policie/{policy_id}\"\n",
    "headers = {\"Authorization\": f\"Bearer {token}\"}\n",
    "response = requests.get(url, headers=headers)\n",
    "\n",
    "print(response.json())"
   ]
  }
 ],
 "metadata": {
  "kernelspec": {
   "display_name": "myenv",
   "language": "python",
   "name": "python3"
  },
  "language_info": {
   "codemirror_mode": {
    "name": "ipython",
    "version": 3
   },
   "file_extension": ".py",
   "mimetype": "text/x-python",
   "name": "python",
   "nbconvert_exporter": "python",
   "pygments_lexer": "ipython3",
   "version": "3.10.9"
  }
 },
 "nbformat": 4,
 "nbformat_minor": 2
}
